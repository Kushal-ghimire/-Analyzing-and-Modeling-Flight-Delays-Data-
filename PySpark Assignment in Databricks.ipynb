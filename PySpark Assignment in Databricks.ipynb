{
 "cells": [
  {
   "cell_type": "markdown",
   "metadata": {
    "application/vnd.databricks.v1+cell": {
     "cellMetadata": {},
     "inputWidgets": {},
     "nuid": "6bd8adb4-6a4a-45af-b93c-484bab8b885d",
     "showTitle": false,
     "tableResultSettingsMap": {},
     "title": ""
    }
   },
   "source": [
    "##Name : Kushal Ghimire            \n",
    "##Student Id: C0903150"
   ]
  },
  {
   "cell_type": "markdown",
   "metadata": {
    "application/vnd.databricks.v1+cell": {
     "cellMetadata": {},
     "inputWidgets": {},
     "nuid": "0b7ee9c6-b66c-4599-98b2-55ac3b33039c",
     "showTitle": false,
     "tableResultSettingsMap": {},
     "title": ""
    }
   },
   "source": [
    "###PySpark Assignment in Databricks: Analyzing and Modeling Flight Delays Data"
   ]
  },
  {
   "cell_type": "markdown",
   "metadata": {
    "application/vnd.databricks.v1+cell": {
     "cellMetadata": {},
     "inputWidgets": {},
     "nuid": "f2b40dd5-e107-4592-8da5-c20eb09eeebf",
     "showTitle": false,
     "tableResultSettingsMap": {},
     "title": ""
    }
   },
   "source": [
    "##**Step 1: Data Loading and Initial Exploration** "
   ]
  },
  {
   "cell_type": "code",
   "execution_count": 0,
   "metadata": {
    "application/vnd.databricks.v1+cell": {
     "cellMetadata": {
      "byteLimit": 2048000,
      "rowLimit": 10000
     },
     "inputWidgets": {},
     "nuid": "3840d4be-313b-4048-a079-e251d071536e",
     "showTitle": false,
     "tableResultSettingsMap": {},
     "title": ""
    }
   },
   "outputs": [],
   "source": [
    "# Import Spark Session\n",
    "from pyspark.sql import SparkSession"
   ]
  },
  {
   "cell_type": "code",
   "execution_count": 0,
   "metadata": {
    "application/vnd.databricks.v1+cell": {
     "cellMetadata": {
      "byteLimit": 2048000,
      "rowLimit": 10000
     },
     "inputWidgets": {},
     "nuid": "5e082116-d6b2-451b-9f1b-f76e8658f317",
     "showTitle": false,
     "tableResultSettingsMap": {},
     "title": ""
    }
   },
   "outputs": [],
   "source": [
    "# Importing Necessary libraries\n",
    "from pyspark.sql.functions import col, when, concat, lit, to_date, dayofweek, count,month,year\n",
    "from pyspark.sql.functions import regexp_replace\n",
    "from pyspark.sql import functions as F\n",
    "from pyspark.ml.feature import Imputer\n",
    "# Plot using Matplotlib\n",
    "import matplotlib.pyplot as plt"
   ]
  },
  {
   "cell_type": "code",
   "execution_count": 0,
   "metadata": {
    "application/vnd.databricks.v1+cell": {
     "cellMetadata": {
      "byteLimit": 2048000,
      "rowLimit": 10000
     },
     "inputWidgets": {},
     "nuid": "ae0e2b7c-77ff-4c30-b7fe-85769f739fa6",
     "showTitle": false,
     "tableResultSettingsMap": {},
     "title": ""
    }
   },
   "outputs": [],
   "source": [
    "# Initialize Spark session\n",
    "spark = SparkSession.builder.appName(\"FlightDelays&Cancellation\").getOrCreate()"
   ]
  },
  {
   "cell_type": "markdown",
   "metadata": {
    "application/vnd.databricks.v1+cell": {
     "cellMetadata": {},
     "inputWidgets": {},
     "nuid": "450c7541-7731-42ec-90c4-e798d21b3f75",
     "showTitle": false,
     "tableResultSettingsMap": {},
     "title": ""
    }
   },
   "source": [
    "**1. Load Data**"
   ]
  },
  {
   "cell_type": "code",
   "execution_count": 0,
   "metadata": {
    "application/vnd.databricks.v1+cell": {
     "cellMetadata": {
      "byteLimit": 2048000,
      "rowLimit": 10000
     },
     "inputWidgets": {},
     "nuid": "8e77a735-1dbc-4daf-a277-593b181deb8f",
     "showTitle": false,
     "tableResultSettingsMap": {},
     "title": ""
    }
   },
   "outputs": [],
   "source": [
    "# Load the dataset from the uploaded location\n",
    "file_path = \"dbfs:/FileStore/2016.csv\"\n",
    "df = spark.read.csv(file_path, header=True, inferSchema=True)"
   ]
  },
  {
   "cell_type": "markdown",
   "metadata": {
    "application/vnd.databricks.v1+cell": {
     "cellMetadata": {},
     "inputWidgets": {},
     "nuid": "31b8cb52-3cb0-423a-aaad-c37420805599",
     "showTitle": false,
     "tableResultSettingsMap": {},
     "title": ""
    }
   },
   "source": [
    "**2. Initial Exploration**"
   ]
  },
  {
   "cell_type": "code",
   "execution_count": 0,
   "metadata": {
    "application/vnd.databricks.v1+cell": {
     "cellMetadata": {
      "byteLimit": 2048000,
      "rowLimit": 10000
     },
     "inputWidgets": {},
     "nuid": "ebf56a87-8c38-4e2f-b0a0-d62051038057",
     "showTitle": false,
     "tableResultSettingsMap": {},
     "title": ""
    }
   },
   "outputs": [
    {
     "output_type": "stream",
     "name": "stdout",
     "output_type": "stream",
     "text": [
      "root\n |-- FLIGHT_DATE : string (nullable = true)\n |-- AirlineIdentifier: string (nullable = true)\n |-- FlightNumber: integer (nullable = true)\n |-- Origin: string (nullable = true)\n |-- Dest: string (nullable = true)\n |-- PlannedDepTime: integer (nullable = true)\n |-- ActualDepTime: integer (nullable = true)\n |-- DepDelay: integer (nullable = true)\n |-- TaxiOut: integer (nullable = true)\n |-- WheelsOff: integer (nullable = true)\n |-- WheelsOn: integer (nullable = true)\n |-- TaxiIn: integer (nullable = true)\n |-- PlannedArrivalTime: integer (nullable = true)\n |-- ArrivalTime: integer (nullable = true)\n |-- ArrivalDelay: integer (nullable = true)\n |-- AirTime: integer (nullable = true)\n |-- Distance: integer (nullable = true)\n |-- CANCELLED: integer (nullable = true)\n |-- CANCELLATION_REASON: string (nullable = true)\n |-- AIR_SYSTEM_DELAY: integer (nullable = true)\n |-- SECURITY_DELAY: integer (nullable = true)\n |-- AIRLINE_DELAY: integer (nullable = true)\n |-- LATE_AIRCRAFT_DELAY: integer (nullable = true)\n\n"
     ]
    }
   ],
   "source": [
    "# Display schema\n",
    "df.printSchema()"
   ]
  },
  {
   "cell_type": "code",
   "execution_count": 0,
   "metadata": {
    "application/vnd.databricks.v1+cell": {
     "cellMetadata": {
      "byteLimit": 2048000,
      "rowLimit": 10000
     },
     "inputWidgets": {},
     "nuid": "bff4d672-8a2a-4aba-bb3b-16c4dbc63a52",
     "showTitle": false,
     "tableResultSettingsMap": {},
     "title": ""
    }
   },
   "outputs": [
    {
     "output_type": "display_data",
     "data": {
      "text/html": [
       "<style scoped>\n",
       "  .table-result-container {\n",
       "    max-height: 300px;\n",
       "    overflow: auto;\n",
       "  }\n",
       "  table, th, td {\n",
       "    border: 1px solid black;\n",
       "    border-collapse: collapse;\n",
       "  }\n",
       "  th, td {\n",
       "    padding: 5px;\n",
       "  }\n",
       "  th {\n",
       "    text-align: left;\n",
       "  }\n",
       "</style><div class='table-result-container'><table class='table-result'><thead style='background-color: white'><tr><th>FLIGHT_DATE </th><th>AirlineIdentifier</th><th>FlightNumber</th><th>Origin</th><th>Dest</th><th>PlannedDepTime</th><th>ActualDepTime</th><th>DepDelay</th><th>TaxiOut</th><th>WheelsOff</th><th>WheelsOn</th><th>TaxiIn</th><th>PlannedArrivalTime</th><th>ArrivalTime</th><th>ArrivalDelay</th><th>AirTime</th><th>Distance</th><th>CANCELLED</th><th>CANCELLATION_REASON</th><th>AIR_SYSTEM_DELAY</th><th>SECURITY_DELAY</th><th>AIRLINE_DELAY</th><th>LATE_AIRCRAFT_DELAY</th></tr></thead><tbody><tr><td>2015-04-21 (2)</td><td>DL</td><td>1248</td><td>DTW</td><td>LAX</td><td>1935</td><td>1935</td><td>0</td><td>23</td><td>1958</td><td>2107</td><td>13</td><td>2144</td><td>2120</td><td>-24</td><td>249</td><td>1979</td><td>0</td><td>null</td><td>null</td><td>null</td><td>null</td><td>null</td></tr><tr><td>2015-04-07 (2)</td><td>DL</td><td>1251</td><td>ATL</td><td>GRR</td><td>2125</td><td>2130</td><td>5</td><td>13</td><td>2143</td><td>2315</td><td>4</td><td>2321</td><td>2319</td><td>-2</td><td>92</td><td>640</td><td>0</td><td>null</td><td>null</td><td>null</td><td>null</td><td>null</td></tr><tr><td>2015-07-24 (5)</td><td>DL</td><td>1254</td><td>LAX</td><td>ATL</td><td>2255</td><td>2256</td><td>1</td><td>19</td><td>2315</td><td>542</td><td>5</td><td>600</td><td>547</td><td>-13</td><td>207</td><td>1947</td><td>0</td><td>null</td><td>null</td><td>null</td><td>null</td><td>null</td></tr><tr><td>2015-02-13 (5)</td><td>DL</td><td>1255</td><td>SLC</td><td>ATL</td><td>1656</td><td>1700</td><td>4</td><td>12</td><td>1712</td><td>2205</td><td>8</td><td>2229</td><td>2213</td><td>-16</td><td>173</td><td>1590</td><td>0</td><td>null</td><td>null</td><td>null</td><td>null</td><td>null</td></tr><tr><td>2015-09-05 (6)</td><td>DL</td><td>1256</td><td>BZN</td><td>MSP</td><td>900</td><td>1012</td><td>72</td><td>63</td><td>1115</td><td>1416</td><td>4</td><td>1216</td><td>1420</td><td>124</td><td>121</td><td>874</td><td>0</td><td>null</td><td>null</td><td>null</td><td>null</td><td>null</td></tr><tr><td>2015-03-07 (6)</td><td>DL</td><td>1257</td><td>ATL</td><td>BNA</td><td>1233</td><td>1356</td><td>83</td><td>22</td><td>1418</td><td>1356</td><td>6</td><td>1239</td><td>1402</td><td>83</td><td>38</td><td>214</td><td>0</td><td>null</td><td>0</td><td>0</td><td>0</td><td>42</td></tr><tr><td>2015-06-04 (4)</td><td>DL</td><td>1257</td><td>BNA</td><td>ATL</td><td>1320</td><td>1446</td><td>86</td><td>15</td><td>1501</td><td>1638</td><td>6</td><td>1530</td><td>1644</td><td>74</td><td>37</td><td>214</td><td>0</td><td>null</td><td>null</td><td>null</td><td>null</td><td>null</td></tr><tr><td>2015-06-11 (4)</td><td>DL</td><td>1258</td><td>ATL</td><td>JAX</td><td>945</td><td>946</td><td>1</td><td>19</td><td>1005</td><td>1050</td><td>3</td><td>1050</td><td>1053</td><td>3</td><td>45</td><td>270</td><td>0</td><td>null</td><td>null</td><td>null</td><td>null</td><td>null</td></tr><tr><td>2015-02-28 (6)</td><td>DL</td><td>1258</td><td>JAX</td><td>ATL</td><td>1145</td><td>1144</td><td>-1</td><td>12</td><td>1156</td><td>1239</td><td>8</td><td>1302</td><td>1247</td><td>-15</td><td>43</td><td>270</td><td>0</td><td>null</td><td>0</td><td>0</td><td>2</td><td>21</td></tr><tr><td>2015-02-21 (6)</td><td>DL</td><td>1259</td><td>ATL</td><td>OKC</td><td>2110</td><td>2107</td><td>-3</td><td>16</td><td>2123</td><td>2219</td><td>5</td><td>2236</td><td>2224</td><td>-12</td><td>116</td><td>761</td><td>0</td><td>null</td><td>0</td><td>0</td><td>28</td><td>0</td></tr></tbody></table></div>"
      ]
     },
     "metadata": {
      "application/vnd.databricks.v1+output": {
       "addedWidgets": {},
       "aggData": [],
       "aggError": "",
       "aggOverflow": false,
       "aggSchema": [],
       "aggSeriesLimitReached": false,
       "aggType": "",
       "arguments": {},
       "columnCustomDisplayInfos": {},
       "data": [
        [
         "2015-04-21 (2)",
         "DL",
         1248,
         "DTW",
         "LAX",
         1935,
         1935,
         0,
         23,
         1958,
         2107,
         13,
         2144,
         2120,
         -24,
         249,
         1979,
         0,
         null,
         null,
         null,
         null,
         null
        ],
        [
         "2015-04-07 (2)",
         "DL",
         1251,
         "ATL",
         "GRR",
         2125,
         2130,
         5,
         13,
         2143,
         2315,
         4,
         2321,
         2319,
         -2,
         92,
         640,
         0,
         null,
         null,
         null,
         null,
         null
        ],
        [
         "2015-07-24 (5)",
         "DL",
         1254,
         "LAX",
         "ATL",
         2255,
         2256,
         1,
         19,
         2315,
         542,
         5,
         600,
         547,
         -13,
         207,
         1947,
         0,
         null,
         null,
         null,
         null,
         null
        ],
        [
         "2015-02-13 (5)",
         "DL",
         1255,
         "SLC",
         "ATL",
         1656,
         1700,
         4,
         12,
         1712,
         2205,
         8,
         2229,
         2213,
         -16,
         173,
         1590,
         0,
         null,
         null,
         null,
         null,
         null
        ],
        [
         "2015-09-05 (6)",
         "DL",
         1256,
         "BZN",
         "MSP",
         900,
         1012,
         72,
         63,
         1115,
         1416,
         4,
         1216,
         1420,
         124,
         121,
         874,
         0,
         null,
         null,
         null,
         null,
         null
        ],
        [
         "2015-03-07 (6)",
         "DL",
         1257,
         "ATL",
         "BNA",
         1233,
         1356,
         83,
         22,
         1418,
         1356,
         6,
         1239,
         1402,
         83,
         38,
         214,
         0,
         null,
         0,
         0,
         0,
         42
        ],
        [
         "2015-06-04 (4)",
         "DL",
         1257,
         "BNA",
         "ATL",
         1320,
         1446,
         86,
         15,
         1501,
         1638,
         6,
         1530,
         1644,
         74,
         37,
         214,
         0,
         null,
         null,
         null,
         null,
         null
        ],
        [
         "2015-06-11 (4)",
         "DL",
         1258,
         "ATL",
         "JAX",
         945,
         946,
         1,
         19,
         1005,
         1050,
         3,
         1050,
         1053,
         3,
         45,
         270,
         0,
         null,
         null,
         null,
         null,
         null
        ],
        [
         "2015-02-28 (6)",
         "DL",
         1258,
         "JAX",
         "ATL",
         1145,
         1144,
         -1,
         12,
         1156,
         1239,
         8,
         1302,
         1247,
         -15,
         43,
         270,
         0,
         null,
         0,
         0,
         2,
         21
        ],
        [
         "2015-02-21 (6)",
         "DL",
         1259,
         "ATL",
         "OKC",
         2110,
         2107,
         -3,
         16,
         2123,
         2219,
         5,
         2236,
         2224,
         -12,
         116,
         761,
         0,
         null,
         0,
         0,
         28,
         0
        ]
       ],
       "datasetInfos": [],
       "dbfsResultPath": null,
       "isJsonSchema": true,
       "metadata": {},
       "overflow": false,
       "plotOptions": {
        "customPlotOptions": {},
        "displayType": "table",
        "pivotAggregation": null,
        "pivotColumns": null,
        "xColumns": null,
        "yColumns": null
       },
       "removedWidgets": [],
       "schema": [
        {
         "metadata": "{}",
         "name": "FLIGHT_DATE ",
         "type": "\"string\""
        },
        {
         "metadata": "{}",
         "name": "AirlineIdentifier",
         "type": "\"string\""
        },
        {
         "metadata": "{}",
         "name": "FlightNumber",
         "type": "\"integer\""
        },
        {
         "metadata": "{}",
         "name": "Origin",
         "type": "\"string\""
        },
        {
         "metadata": "{}",
         "name": "Dest",
         "type": "\"string\""
        },
        {
         "metadata": "{}",
         "name": "PlannedDepTime",
         "type": "\"integer\""
        },
        {
         "metadata": "{}",
         "name": "ActualDepTime",
         "type": "\"integer\""
        },
        {
         "metadata": "{}",
         "name": "DepDelay",
         "type": "\"integer\""
        },
        {
         "metadata": "{}",
         "name": "TaxiOut",
         "type": "\"integer\""
        },
        {
         "metadata": "{}",
         "name": "WheelsOff",
         "type": "\"integer\""
        },
        {
         "metadata": "{}",
         "name": "WheelsOn",
         "type": "\"integer\""
        },
        {
         "metadata": "{}",
         "name": "TaxiIn",
         "type": "\"integer\""
        },
        {
         "metadata": "{}",
         "name": "PlannedArrivalTime",
         "type": "\"integer\""
        },
        {
         "metadata": "{}",
         "name": "ArrivalTime",
         "type": "\"integer\""
        },
        {
         "metadata": "{}",
         "name": "ArrivalDelay",
         "type": "\"integer\""
        },
        {
         "metadata": "{}",
         "name": "AirTime",
         "type": "\"integer\""
        },
        {
         "metadata": "{}",
         "name": "Distance",
         "type": "\"integer\""
        },
        {
         "metadata": "{}",
         "name": "CANCELLED",
         "type": "\"integer\""
        },
        {
         "metadata": "{}",
         "name": "CANCELLATION_REASON",
         "type": "\"string\""
        },
        {
         "metadata": "{}",
         "name": "AIR_SYSTEM_DELAY",
         "type": "\"integer\""
        },
        {
         "metadata": "{}",
         "name": "SECURITY_DELAY",
         "type": "\"integer\""
        },
        {
         "metadata": "{}",
         "name": "AIRLINE_DELAY",
         "type": "\"integer\""
        },
        {
         "metadata": "{}",
         "name": "LATE_AIRCRAFT_DELAY",
         "type": "\"integer\""
        }
       ],
       "type": "table"
      }
     },
     "output_type": "display_data"
    }
   ],
   "source": [
    "# Display the first 10 rows of the DataFrame\n",
    "display(df.limit(10))"
   ]
  },
  {
   "cell_type": "markdown",
   "metadata": {
    "application/vnd.databricks.v1+cell": {
     "cellMetadata": {},
     "inputWidgets": {},
     "nuid": "5e58163b-6290-4f85-b7e8-317e649a0fa5",
     "showTitle": false,
     "tableResultSettingsMap": {},
     "title": ""
    }
   },
   "source": [
    "**Count the number of rows and columns.**"
   ]
  },
  {
   "cell_type": "code",
   "execution_count": 0,
   "metadata": {
    "application/vnd.databricks.v1+cell": {
     "cellMetadata": {
      "byteLimit": 2048000,
      "rowLimit": 10000
     },
     "inputWidgets": {},
     "nuid": "68a2c514-024b-4db3-a00f-7d4b3d6e3579",
     "showTitle": false,
     "tableResultSettingsMap": {},
     "title": ""
    }
   },
   "outputs": [
    {
     "output_type": "stream",
     "name": "stdout",
     "output_type": "stream",
     "text": [
      "Number of rows: 872860, Number of columns: 23\n"
     ]
    }
   ],
   "source": [
    "# Count the number of rows and columns.\n",
    "num_rows = df.count()\n",
    "num_columns = len(df.columns)\n",
    "print(f\"Number of rows: {num_rows}, Number of columns: {num_columns}\")\n"
   ]
  },
  {
   "cell_type": "markdown",
   "metadata": {
    "application/vnd.databricks.v1+cell": {
     "cellMetadata": {},
     "inputWidgets": {},
     "nuid": "108315e0-8b57-4e6e-af25-8dc4878a86f6",
     "showTitle": false,
     "tableResultSettingsMap": {},
     "title": ""
    }
   },
   "source": [
    "**Questions:**"
   ]
  },
  {
   "cell_type": "markdown",
   "metadata": {
    "application/vnd.databricks.v1+cell": {
     "cellMetadata": {},
     "inputWidgets": {},
     "nuid": "a0be33f3-0dd9-4635-a396-09ef40e40e2d",
     "showTitle": false,
     "tableResultSettingsMap": {},
     "title": ""
    }
   },
   "source": [
    "**How many rows and columns does the dataset contain**?\n",
    "- Answer : There are 872860 rows and 23 columns."
   ]
  },
  {
   "cell_type": "markdown",
   "metadata": {
    "application/vnd.databricks.v1+cell": {
     "cellMetadata": {},
     "inputWidgets": {},
     "nuid": "4f078b50-949f-4ab5-a416-27f1f31e75bc",
     "showTitle": false,
     "tableResultSettingsMap": {},
     "title": ""
    }
   },
   "source": [
    "**What are the data types of each column?**\n",
    "\n",
    " Answer: The data types of each column are displayed using printSchema().\n",
    " Here are the data types of each column in text form:\n",
    "**FLIGHT_DATE**: string,\n",
    "**AirlineIdentifier**: string,\n",
    "**FlightNumber**: integer,\n",
    "**Origin**: string,\n",
    "**Dest**: string,\n",
    "**PlannedDepTime**: integer,\n",
    "**ActualDepTime**: integer,\n",
    "**DepDelay**: integer,\n",
    "**TaxiOut**: integer,\n",
    "**WheelsOff**: integer,\n",
    "**WheelsOn**: integer,\n",
    "**TaxiIn**: integer,\n",
    "**PlannedArrivalTime**: integer,\n",
    "**ArrivalTime**: integer,\n",
    "**ArrivalDelay**: integer,\n",
    "**AirTime**: integer,\n",
    "**Distance**: integer,\n",
    "**CANCELLED** : integer,\n",
    "**CANCELLATION_REASON** : string,\n",
    "**AIR_SYSTEM_DELAY** : integer,\n",
    "**SECURITY_DELAY**: integer,\n",
    "**AIRLINE_DELAY** : integer,\n",
    "**LATE_AIRCRAFT_DELAY** : integer\n",
    "\n",
    "\n",
    "\n",
    "\n",
    "\n",
    "\n"
   ]
  },
  {
   "cell_type": "markdown",
   "metadata": {
    "application/vnd.databricks.v1+cell": {
     "cellMetadata": {},
     "inputWidgets": {},
     "nuid": "9817a9a8-2697-4444-98f1-3f52840ef353",
     "showTitle": false,
     "tableResultSettingsMap": {},
     "title": ""
    }
   },
   "source": [
    "##**Step 2: Data Cleaning and Transformation**"
   ]
  },
  {
   "cell_type": "markdown",
   "metadata": {
    "application/vnd.databricks.v1+cell": {
     "cellMetadata": {},
     "inputWidgets": {},
     "nuid": "213242e1-4b78-4495-8db0-d53c13dac136",
     "showTitle": false,
     "tableResultSettingsMap": {},
     "title": ""
    }
   },
   "source": [
    "**1. Handle Missing Values**"
   ]
  },
  {
   "cell_type": "code",
   "execution_count": 0,
   "metadata": {
    "application/vnd.databricks.v1+cell": {
     "cellMetadata": {
      "byteLimit": 2048000,
      "rowLimit": 10000
     },
     "inputWidgets": {},
     "nuid": "bf6fd4a8-04b1-45d0-a962-dba27ea320ab",
     "showTitle": false,
     "tableResultSettingsMap": {},
     "title": ""
    }
   },
   "outputs": [
    {
     "output_type": "display_data",
     "data": {
      "text/html": [
       "<style scoped>\n",
       "  .table-result-container {\n",
       "    max-height: 300px;\n",
       "    overflow: auto;\n",
       "  }\n",
       "  table, th, td {\n",
       "    border: 1px solid black;\n",
       "    border-collapse: collapse;\n",
       "  }\n",
       "  th, td {\n",
       "    padding: 5px;\n",
       "  }\n",
       "  th {\n",
       "    text-align: left;\n",
       "  }\n",
       "</style><div class='table-result-container'><table class='table-result'><thead style='background-color: white'><tr><th>FLIGHT_DATE </th><th>AirlineIdentifier</th><th>FlightNumber</th><th>Origin</th><th>Dest</th><th>PlannedDepTime</th><th>ActualDepTime</th><th>DepDelay</th><th>TaxiOut</th><th>WheelsOff</th><th>WheelsOn</th><th>TaxiIn</th><th>PlannedArrivalTime</th><th>ArrivalTime</th><th>ArrivalDelay</th><th>AirTime</th><th>Distance</th><th>CANCELLED</th><th>CANCELLATION_REASON</th><th>AIR_SYSTEM_DELAY</th><th>SECURITY_DELAY</th><th>AIRLINE_DELAY</th><th>LATE_AIRCRAFT_DELAY</th></tr></thead><tbody><tr><td>0</td><td>0</td><td>0</td><td>0</td><td>0</td><td>0</td><td>18136</td><td>18136</td><td>18458</td><td>18458</td><td>19061</td><td>19061</td><td>0</td><td>19061</td><td>20420</td><td>20420</td><td>0</td><td>0</td><td>859366</td><td>713703</td><td>713703</td><td>713703</td><td>713703</td></tr></tbody></table></div>"
      ]
     },
     "metadata": {
      "application/vnd.databricks.v1+output": {
       "addedWidgets": {},
       "aggData": [],
       "aggError": "",
       "aggOverflow": false,
       "aggSchema": [],
       "aggSeriesLimitReached": false,
       "aggType": "",
       "arguments": {},
       "columnCustomDisplayInfos": {},
       "data": [
        [
         0,
         0,
         0,
         0,
         0,
         0,
         18136,
         18136,
         18458,
         18458,
         19061,
         19061,
         0,
         19061,
         20420,
         20420,
         0,
         0,
         859366,
         713703,
         713703,
         713703,
         713703
        ]
       ],
       "datasetInfos": [],
       "dbfsResultPath": null,
       "isJsonSchema": true,
       "metadata": {},
       "overflow": false,
       "plotOptions": {
        "customPlotOptions": {},
        "displayType": "table",
        "pivotAggregation": null,
        "pivotColumns": null,
        "xColumns": null,
        "yColumns": null
       },
       "removedWidgets": [],
       "schema": [
        {
         "metadata": "{}",
         "name": "FLIGHT_DATE ",
         "type": "\"long\""
        },
        {
         "metadata": "{}",
         "name": "AirlineIdentifier",
         "type": "\"long\""
        },
        {
         "metadata": "{}",
         "name": "FlightNumber",
         "type": "\"long\""
        },
        {
         "metadata": "{}",
         "name": "Origin",
         "type": "\"long\""
        },
        {
         "metadata": "{}",
         "name": "Dest",
         "type": "\"long\""
        },
        {
         "metadata": "{}",
         "name": "PlannedDepTime",
         "type": "\"long\""
        },
        {
         "metadata": "{}",
         "name": "ActualDepTime",
         "type": "\"long\""
        },
        {
         "metadata": "{}",
         "name": "DepDelay",
         "type": "\"long\""
        },
        {
         "metadata": "{}",
         "name": "TaxiOut",
         "type": "\"long\""
        },
        {
         "metadata": "{}",
         "name": "WheelsOff",
         "type": "\"long\""
        },
        {
         "metadata": "{}",
         "name": "WheelsOn",
         "type": "\"long\""
        },
        {
         "metadata": "{}",
         "name": "TaxiIn",
         "type": "\"long\""
        },
        {
         "metadata": "{}",
         "name": "PlannedArrivalTime",
         "type": "\"long\""
        },
        {
         "metadata": "{}",
         "name": "ArrivalTime",
         "type": "\"long\""
        },
        {
         "metadata": "{}",
         "name": "ArrivalDelay",
         "type": "\"long\""
        },
        {
         "metadata": "{}",
         "name": "AirTime",
         "type": "\"long\""
        },
        {
         "metadata": "{}",
         "name": "Distance",
         "type": "\"long\""
        },
        {
         "metadata": "{}",
         "name": "CANCELLED",
         "type": "\"long\""
        },
        {
         "metadata": "{}",
         "name": "CANCELLATION_REASON",
         "type": "\"long\""
        },
        {
         "metadata": "{}",
         "name": "AIR_SYSTEM_DELAY",
         "type": "\"long\""
        },
        {
         "metadata": "{}",
         "name": "SECURITY_DELAY",
         "type": "\"long\""
        },
        {
         "metadata": "{}",
         "name": "AIRLINE_DELAY",
         "type": "\"long\""
        },
        {
         "metadata": "{}",
         "name": "LATE_AIRCRAFT_DELAY",
         "type": "\"long\""
        }
       ],
       "type": "table"
      }
     },
     "output_type": "display_data"
    }
   ],
   "source": [
    "# Count the number of missing values in each column\n",
    "missing_counts = df.select([F.count(F.when(F.col(c).isNull(), c)).alias(c) for c in df.columns])\n",
    "display(missing_counts)"
   ]
  },
  {
   "cell_type": "code",
   "execution_count": 0,
   "metadata": {
    "application/vnd.databricks.v1+cell": {
     "cellMetadata": {
      "byteLimit": 2048000,
      "rowLimit": 10000
     },
     "inputWidgets": {},
     "nuid": "baf20c50-c7b6-44d7-adb0-b4fcbbd4efaf",
     "showTitle": false,
     "tableResultSettingsMap": {},
     "title": ""
    }
   },
   "outputs": [],
   "source": [
    "# Impute missing values for numerical columns with mean or median\n",
    "from pyspark.ml.feature import Imputer\n",
    "\n",
    "numerical_columns = ['ActualDepTime', 'DepDelay', 'TaxiOut', 'WheelsOff', \n",
    "                     'WheelsOn', 'TaxiIn', 'ArrivalTime','ArrivalDelay', 'AirTime','AIR_SYSTEM_DELAY', 'SECURITY_DELAY', 'AIRLINE_DELAY', 'LATE_AIRCRAFT_DELAY']\n",
    "\n",
    "imputer = Imputer(inputCols=numerical_columns, outputCols=[f\"{col}_imputed\" for col in numerical_columns]).setStrategy(\"median\")\n",
    "df = imputer.fit(df).transform(df)"
   ]
  },
  {
   "cell_type": "code",
   "execution_count": 0,
   "metadata": {
    "application/vnd.databricks.v1+cell": {
     "cellMetadata": {
      "byteLimit": 2048000,
      "rowLimit": 10000
     },
     "inputWidgets": {},
     "nuid": "15b6009f-e971-4602-aca1-957a58810992",
     "showTitle": false,
     "tableResultSettingsMap": {},
     "title": ""
    }
   },
   "outputs": [],
   "source": [
    "# Impute categorical columns with \"Unknown\" for missing values\n",
    "categorical_columns = ['CANCELLATION_REASON']\n",
    "\n",
    "for column in categorical_columns:\n",
    "    df = df.na.fill({column: 'Unknown'})\n"
   ]
  },
  {
   "cell_type": "markdown",
   "metadata": {
    "application/vnd.databricks.v1+cell": {
     "cellMetadata": {},
     "inputWidgets": {},
     "nuid": "4a8be28b-9e34-47c1-b334-71af97108a4f",
     "showTitle": false,
     "tableResultSettingsMap": {},
     "title": ""
    }
   },
   "source": [
    "**2. Feature Engineering: Create new features that may be useful for analysis.**"
   ]
  },
  {
   "cell_type": "code",
   "execution_count": 0,
   "metadata": {
    "application/vnd.databricks.v1+cell": {
     "cellMetadata": {
      "byteLimit": 2048000,
      "rowLimit": 10000
     },
     "inputWidgets": {},
     "nuid": "bb770f01-b9a6-4167-9c66-687d7617a63c",
     "showTitle": false,
     "tableResultSettingsMap": {},
     "title": ""
    }
   },
   "outputs": [],
   "source": [
    "# Remove anything after the actual date, e.g., \"(2)\"\n",
    "df = df.withColumn(\"FLIGHT_DATE \", regexp_replace(col(\"FLIGHT_DATE \"), r\"(\\s*\\(.*\\))\", \"\"))\n"
   ]
  },
  {
   "cell_type": "code",
   "execution_count": 0,
   "metadata": {
    "application/vnd.databricks.v1+cell": {
     "cellMetadata": {
      "byteLimit": 2048000,
      "rowLimit": 10000
     },
     "inputWidgets": {},
     "nuid": "3059fe3a-b0a1-41fe-a18d-9097234e88ec",
     "showTitle": false,
     "tableResultSettingsMap": {},
     "title": ""
    }
   },
   "outputs": [],
   "source": [
    "# Convert FLIGHT_DATE  to a proper date type\n",
    "df = df.withColumn(\"FLIGHT_DATE \", to_date(col(\"FLIGHT_DATE \"), \"yyyy-MM-dd\"))"
   ]
  },
  {
   "cell_type": "code",
   "execution_count": 0,
   "metadata": {
    "application/vnd.databricks.v1+cell": {
     "cellMetadata": {
      "byteLimit": 2048000,
      "rowLimit": 10000
     },
     "inputWidgets": {},
     "nuid": "d24e6607-7bbe-44b6-b158-c6d19b8c98e3",
     "showTitle": false,
     "tableResultSettingsMap": {},
     "title": ""
    }
   },
   "outputs": [],
   "source": [
    "# Feature Engineering\n",
    "# Extract day of week, month, and year from FLIGHT_DATE \n",
    "df = df.withColumn(\"DAY_OF_WEEK\", dayofweek(col(\"FLIGHT_DATE \"))) \\\n",
    "                       .withColumn(\"MONTH\", month(col(\"FLIGHT_DATE \"))) \\\n",
    "                       .withColumn(\"YEAR\", year(col(\"FLIGHT_DATE \")))\n",
    "\n"
   ]
  },
  {
   "cell_type": "code",
   "execution_count": 0,
   "metadata": {
    "application/vnd.databricks.v1+cell": {
     "cellMetadata": {
      "byteLimit": 2048000,
      "rowLimit": 10000
     },
     "inputWidgets": {},
     "nuid": "8a0864a5-10b8-4935-b2b9-02e3c8f3399e",
     "showTitle": false,
     "tableResultSettingsMap": {},
     "title": ""
    }
   },
   "outputs": [],
   "source": [
    "# Create a binary column indicating if a flight was delayed\n",
    "\n",
    "df = df.withColumn(\"WasDelayed\", when(col(\"ArrivalDelay\") > 0, 1).otherwise(0))\n",
    "df = df.withColumn(\"WasDepartureDelayed\", when(col(\"DepDelay\") > 0, 1).otherwise(0))\n",
    "df = df.withColumn(\"WasArrivalLate\", when(col(\"ArrivalDelay\") > 0, 1).otherwise(0))\n",
    "df = df.withColumn(\"AirSystemDelayOccurred\", when(col(\"AIR_SYSTEM_DELAY\") > 0, 1).otherwise(0))\n",
    "df = df.withColumn(\"SecurityDelayOccurred\", when(col(\"SECURITY_DELAY\") > 0, 1).otherwise(0))\n",
    "df = df.withColumn(\"AirlineDelayOccurred\", when(col(\"AIRLINE_DELAY\") > 0, 1).otherwise(0))\n",
    "df = df.withColumn(\"LateAircraftDelayOccurred\", when(col(\"LATE_AIRCRAFT_DELAY\") > 0, 1).otherwise(0))\n"
   ]
  },
  {
   "cell_type": "code",
   "execution_count": 0,
   "metadata": {
    "application/vnd.databricks.v1+cell": {
     "cellMetadata": {
      "byteLimit": 2048000,
      "rowLimit": 10000
     },
     "inputWidgets": {},
     "nuid": "a1f802a2-a624-463b-a1a9-09f8dc3b093c",
     "showTitle": false,
     "tableResultSettingsMap": {},
     "title": ""
    }
   },
   "outputs": [
    {
     "output_type": "stream",
     "name": "stdout",
     "output_type": "stream",
     "text": [
      "root\n |-- FLIGHT_DATE : date (nullable = true)\n |-- AirlineIdentifier: string (nullable = true)\n |-- FlightNumber: integer (nullable = true)\n |-- Origin: string (nullable = true)\n |-- Dest: string (nullable = true)\n |-- PlannedDepTime: integer (nullable = true)\n |-- ActualDepTime: integer (nullable = true)\n |-- DepDelay: integer (nullable = true)\n |-- TaxiOut: integer (nullable = true)\n |-- WheelsOff: integer (nullable = true)\n |-- WheelsOn: integer (nullable = true)\n |-- TaxiIn: integer (nullable = true)\n |-- PlannedArrivalTime: integer (nullable = true)\n |-- ArrivalTime: integer (nullable = true)\n |-- ArrivalDelay: integer (nullable = true)\n |-- AirTime: integer (nullable = true)\n |-- Distance: integer (nullable = true)\n |-- CANCELLED: integer (nullable = true)\n |-- CANCELLATION_REASON: string (nullable = false)\n |-- AIR_SYSTEM_DELAY: integer (nullable = true)\n |-- SECURITY_DELAY: integer (nullable = true)\n |-- AIRLINE_DELAY: integer (nullable = true)\n |-- LATE_AIRCRAFT_DELAY: integer (nullable = true)\n |-- ActualDepTime_imputed: integer (nullable = true)\n |-- DepDelay_imputed: integer (nullable = true)\n |-- TaxiOut_imputed: integer (nullable = true)\n |-- WheelsOff_imputed: integer (nullable = true)\n |-- WheelsOn_imputed: integer (nullable = true)\n |-- TaxiIn_imputed: integer (nullable = true)\n |-- ArrivalTime_imputed: integer (nullable = true)\n |-- ArrivalDelay_imputed: integer (nullable = true)\n |-- AirTime_imputed: integer (nullable = true)\n |-- AIR_SYSTEM_DELAY_imputed: integer (nullable = true)\n |-- SECURITY_DELAY_imputed: integer (nullable = true)\n |-- AIRLINE_DELAY_imputed: integer (nullable = true)\n |-- LATE_AIRCRAFT_DELAY_imputed: integer (nullable = true)\n |-- DAY_OF_WEEK: integer (nullable = true)\n |-- MONTH: integer (nullable = true)\n |-- YEAR: integer (nullable = true)\n |-- WasDelayed: integer (nullable = false)\n |-- WasDepartureDelayed: integer (nullable = false)\n |-- WasArrivalLate: integer (nullable = false)\n |-- AirSystemDelayOccurred: integer (nullable = false)\n |-- SecurityDelayOccurred: integer (nullable = false)\n |-- AirlineDelayOccurred: integer (nullable = false)\n |-- LateAircraftDelayOccurred: integer (nullable = false)\n\n"
     ]
    },
    {
     "output_type": "display_data",
     "data": {
      "text/html": [
       "<style scoped>\n",
       "  .table-result-container {\n",
       "    max-height: 300px;\n",
       "    overflow: auto;\n",
       "  }\n",
       "  table, th, td {\n",
       "    border: 1px solid black;\n",
       "    border-collapse: collapse;\n",
       "  }\n",
       "  th, td {\n",
       "    padding: 5px;\n",
       "  }\n",
       "  th {\n",
       "    text-align: left;\n",
       "  }\n",
       "</style><div class='table-result-container'><table class='table-result'><thead style='background-color: white'><tr><th>FLIGHT_DATE </th><th>AirlineIdentifier</th><th>FlightNumber</th><th>Origin</th><th>Dest</th><th>PlannedDepTime</th><th>ActualDepTime</th><th>DepDelay</th><th>TaxiOut</th><th>WheelsOff</th><th>WheelsOn</th><th>TaxiIn</th><th>PlannedArrivalTime</th><th>ArrivalTime</th><th>ArrivalDelay</th><th>AirTime</th><th>Distance</th><th>CANCELLED</th><th>CANCELLATION_REASON</th><th>AIR_SYSTEM_DELAY</th><th>SECURITY_DELAY</th><th>AIRLINE_DELAY</th><th>LATE_AIRCRAFT_DELAY</th><th>ActualDepTime_imputed</th><th>DepDelay_imputed</th><th>TaxiOut_imputed</th><th>WheelsOff_imputed</th><th>WheelsOn_imputed</th><th>TaxiIn_imputed</th><th>ArrivalTime_imputed</th><th>ArrivalDelay_imputed</th><th>AirTime_imputed</th><th>AIR_SYSTEM_DELAY_imputed</th><th>SECURITY_DELAY_imputed</th><th>AIRLINE_DELAY_imputed</th><th>LATE_AIRCRAFT_DELAY_imputed</th><th>DAY_OF_WEEK</th><th>MONTH</th><th>YEAR</th><th>WasDelayed</th><th>WasDepartureDelayed</th><th>WasArrivalLate</th><th>AirSystemDelayOccurred</th><th>SecurityDelayOccurred</th><th>AirlineDelayOccurred</th><th>LateAircraftDelayOccurred</th></tr></thead><tbody><tr><td>2015-04-21</td><td>DL</td><td>1248</td><td>DTW</td><td>LAX</td><td>1935</td><td>1935</td><td>0</td><td>23</td><td>1958</td><td>2107</td><td>13</td><td>2144</td><td>2120</td><td>-24</td><td>249</td><td>1979</td><td>0</td><td>Unknown</td><td>null</td><td>null</td><td>null</td><td>null</td><td>1935</td><td>0</td><td>23</td><td>1958</td><td>2107</td><td>13</td><td>2120</td><td>-24</td><td>249</td><td>2</td><td>0</td><td>2</td><td>3</td><td>3</td><td>4</td><td>2015</td><td>0</td><td>0</td><td>0</td><td>0</td><td>0</td><td>0</td><td>0</td></tr><tr><td>2015-04-07</td><td>DL</td><td>1251</td><td>ATL</td><td>GRR</td><td>2125</td><td>2130</td><td>5</td><td>13</td><td>2143</td><td>2315</td><td>4</td><td>2321</td><td>2319</td><td>-2</td><td>92</td><td>640</td><td>0</td><td>Unknown</td><td>null</td><td>null</td><td>null</td><td>null</td><td>2130</td><td>5</td><td>13</td><td>2143</td><td>2315</td><td>4</td><td>2319</td><td>-2</td><td>92</td><td>2</td><td>0</td><td>2</td><td>3</td><td>3</td><td>4</td><td>2015</td><td>0</td><td>1</td><td>0</td><td>0</td><td>0</td><td>0</td><td>0</td></tr><tr><td>2015-07-24</td><td>DL</td><td>1254</td><td>LAX</td><td>ATL</td><td>2255</td><td>2256</td><td>1</td><td>19</td><td>2315</td><td>542</td><td>5</td><td>600</td><td>547</td><td>-13</td><td>207</td><td>1947</td><td>0</td><td>Unknown</td><td>null</td><td>null</td><td>null</td><td>null</td><td>2256</td><td>1</td><td>19</td><td>2315</td><td>542</td><td>5</td><td>547</td><td>-13</td><td>207</td><td>2</td><td>0</td><td>2</td><td>3</td><td>6</td><td>7</td><td>2015</td><td>0</td><td>1</td><td>0</td><td>0</td><td>0</td><td>0</td><td>0</td></tr><tr><td>2015-02-13</td><td>DL</td><td>1255</td><td>SLC</td><td>ATL</td><td>1656</td><td>1700</td><td>4</td><td>12</td><td>1712</td><td>2205</td><td>8</td><td>2229</td><td>2213</td><td>-16</td><td>173</td><td>1590</td><td>0</td><td>Unknown</td><td>null</td><td>null</td><td>null</td><td>null</td><td>1700</td><td>4</td><td>12</td><td>1712</td><td>2205</td><td>8</td><td>2213</td><td>-16</td><td>173</td><td>2</td><td>0</td><td>2</td><td>3</td><td>6</td><td>2</td><td>2015</td><td>0</td><td>1</td><td>0</td><td>0</td><td>0</td><td>0</td><td>0</td></tr><tr><td>2015-09-05</td><td>DL</td><td>1256</td><td>BZN</td><td>MSP</td><td>900</td><td>1012</td><td>72</td><td>63</td><td>1115</td><td>1416</td><td>4</td><td>1216</td><td>1420</td><td>124</td><td>121</td><td>874</td><td>0</td><td>Unknown</td><td>null</td><td>null</td><td>null</td><td>null</td><td>1012</td><td>72</td><td>63</td><td>1115</td><td>1416</td><td>4</td><td>1420</td><td>124</td><td>121</td><td>2</td><td>0</td><td>2</td><td>3</td><td>7</td><td>9</td><td>2015</td><td>1</td><td>1</td><td>1</td><td>0</td><td>0</td><td>0</td><td>0</td></tr><tr><td>2015-03-07</td><td>DL</td><td>1257</td><td>ATL</td><td>BNA</td><td>1233</td><td>1356</td><td>83</td><td>22</td><td>1418</td><td>1356</td><td>6</td><td>1239</td><td>1402</td><td>83</td><td>38</td><td>214</td><td>0</td><td>Unknown</td><td>0</td><td>0</td><td>0</td><td>42</td><td>1356</td><td>83</td><td>22</td><td>1418</td><td>1356</td><td>6</td><td>1402</td><td>83</td><td>38</td><td>0</td><td>0</td><td>0</td><td>42</td><td>7</td><td>3</td><td>2015</td><td>1</td><td>1</td><td>1</td><td>0</td><td>0</td><td>0</td><td>1</td></tr><tr><td>2015-06-04</td><td>DL</td><td>1257</td><td>BNA</td><td>ATL</td><td>1320</td><td>1446</td><td>86</td><td>15</td><td>1501</td><td>1638</td><td>6</td><td>1530</td><td>1644</td><td>74</td><td>37</td><td>214</td><td>0</td><td>Unknown</td><td>null</td><td>null</td><td>null</td><td>null</td><td>1446</td><td>86</td><td>15</td><td>1501</td><td>1638</td><td>6</td><td>1644</td><td>74</td><td>37</td><td>2</td><td>0</td><td>2</td><td>3</td><td>5</td><td>6</td><td>2015</td><td>1</td><td>1</td><td>1</td><td>0</td><td>0</td><td>0</td><td>0</td></tr><tr><td>2015-06-11</td><td>DL</td><td>1258</td><td>ATL</td><td>JAX</td><td>945</td><td>946</td><td>1</td><td>19</td><td>1005</td><td>1050</td><td>3</td><td>1050</td><td>1053</td><td>3</td><td>45</td><td>270</td><td>0</td><td>Unknown</td><td>null</td><td>null</td><td>null</td><td>null</td><td>946</td><td>1</td><td>19</td><td>1005</td><td>1050</td><td>3</td><td>1053</td><td>3</td><td>45</td><td>2</td><td>0</td><td>2</td><td>3</td><td>5</td><td>6</td><td>2015</td><td>1</td><td>1</td><td>1</td><td>0</td><td>0</td><td>0</td><td>0</td></tr><tr><td>2015-02-28</td><td>DL</td><td>1258</td><td>JAX</td><td>ATL</td><td>1145</td><td>1144</td><td>-1</td><td>12</td><td>1156</td><td>1239</td><td>8</td><td>1302</td><td>1247</td><td>-15</td><td>43</td><td>270</td><td>0</td><td>Unknown</td><td>0</td><td>0</td><td>2</td><td>21</td><td>1144</td><td>-1</td><td>12</td><td>1156</td><td>1239</td><td>8</td><td>1247</td><td>-15</td><td>43</td><td>0</td><td>0</td><td>2</td><td>21</td><td>7</td><td>2</td><td>2015</td><td>0</td><td>0</td><td>0</td><td>0</td><td>0</td><td>1</td><td>1</td></tr><tr><td>2015-02-21</td><td>DL</td><td>1259</td><td>ATL</td><td>OKC</td><td>2110</td><td>2107</td><td>-3</td><td>16</td><td>2123</td><td>2219</td><td>5</td><td>2236</td><td>2224</td><td>-12</td><td>116</td><td>761</td><td>0</td><td>Unknown</td><td>0</td><td>0</td><td>28</td><td>0</td><td>2107</td><td>-3</td><td>16</td><td>2123</td><td>2219</td><td>5</td><td>2224</td><td>-12</td><td>116</td><td>0</td><td>0</td><td>28</td><td>0</td><td>7</td><td>2</td><td>2015</td><td>0</td><td>0</td><td>0</td><td>0</td><td>0</td><td>1</td><td>0</td></tr></tbody></table></div>"
      ]
     },
     "metadata": {
      "application/vnd.databricks.v1+output": {
       "addedWidgets": {},
       "aggData": [],
       "aggError": "",
       "aggOverflow": false,
       "aggSchema": [],
       "aggSeriesLimitReached": false,
       "aggType": "",
       "arguments": {},
       "columnCustomDisplayInfos": {},
       "data": [
        [
         "2015-04-21",
         "DL",
         1248,
         "DTW",
         "LAX",
         1935,
         1935,
         0,
         23,
         1958,
         2107,
         13,
         2144,
         2120,
         -24,
         249,
         1979,
         0,
         "Unknown",
         null,
         null,
         null,
         null,
         1935,
         0,
         23,
         1958,
         2107,
         13,
         2120,
         -24,
         249,
         2,
         0,
         2,
         3,
         3,
         4,
         2015,
         0,
         0,
         0,
         0,
         0,
         0,
         0
        ],
        [
         "2015-04-07",
         "DL",
         1251,
         "ATL",
         "GRR",
         2125,
         2130,
         5,
         13,
         2143,
         2315,
         4,
         2321,
         2319,
         -2,
         92,
         640,
         0,
         "Unknown",
         null,
         null,
         null,
         null,
         2130,
         5,
         13,
         2143,
         2315,
         4,
         2319,
         -2,
         92,
         2,
         0,
         2,
         3,
         3,
         4,
         2015,
         0,
         1,
         0,
         0,
         0,
         0,
         0
        ],
        [
         "2015-07-24",
         "DL",
         1254,
         "LAX",
         "ATL",
         2255,
         2256,
         1,
         19,
         2315,
         542,
         5,
         600,
         547,
         -13,
         207,
         1947,
         0,
         "Unknown",
         null,
         null,
         null,
         null,
         2256,
         1,
         19,
         2315,
         542,
         5,
         547,
         -13,
         207,
         2,
         0,
         2,
         3,
         6,
         7,
         2015,
         0,
         1,
         0,
         0,
         0,
         0,
         0
        ],
        [
         "2015-02-13",
         "DL",
         1255,
         "SLC",
         "ATL",
         1656,
         1700,
         4,
         12,
         1712,
         2205,
         8,
         2229,
         2213,
         -16,
         173,
         1590,
         0,
         "Unknown",
         null,
         null,
         null,
         null,
         1700,
         4,
         12,
         1712,
         2205,
         8,
         2213,
         -16,
         173,
         2,
         0,
         2,
         3,
         6,
         2,
         2015,
         0,
         1,
         0,
         0,
         0,
         0,
         0
        ],
        [
         "2015-09-05",
         "DL",
         1256,
         "BZN",
         "MSP",
         900,
         1012,
         72,
         63,
         1115,
         1416,
         4,
         1216,
         1420,
         124,
         121,
         874,
         0,
         "Unknown",
         null,
         null,
         null,
         null,
         1012,
         72,
         63,
         1115,
         1416,
         4,
         1420,
         124,
         121,
         2,
         0,
         2,
         3,
         7,
         9,
         2015,
         1,
         1,
         1,
         0,
         0,
         0,
         0
        ],
        [
         "2015-03-07",
         "DL",
         1257,
         "ATL",
         "BNA",
         1233,
         1356,
         83,
         22,
         1418,
         1356,
         6,
         1239,
         1402,
         83,
         38,
         214,
         0,
         "Unknown",
         0,
         0,
         0,
         42,
         1356,
         83,
         22,
         1418,
         1356,
         6,
         1402,
         83,
         38,
         0,
         0,
         0,
         42,
         7,
         3,
         2015,
         1,
         1,
         1,
         0,
         0,
         0,
         1
        ],
        [
         "2015-06-04",
         "DL",
         1257,
         "BNA",
         "ATL",
         1320,
         1446,
         86,
         15,
         1501,
         1638,
         6,
         1530,
         1644,
         74,
         37,
         214,
         0,
         "Unknown",
         null,
         null,
         null,
         null,
         1446,
         86,
         15,
         1501,
         1638,
         6,
         1644,
         74,
         37,
         2,
         0,
         2,
         3,
         5,
         6,
         2015,
         1,
         1,
         1,
         0,
         0,
         0,
         0
        ],
        [
         "2015-06-11",
         "DL",
         1258,
         "ATL",
         "JAX",
         945,
         946,
         1,
         19,
         1005,
         1050,
         3,
         1050,
         1053,
         3,
         45,
         270,
         0,
         "Unknown",
         null,
         null,
         null,
         null,
         946,
         1,
         19,
         1005,
         1050,
         3,
         1053,
         3,
         45,
         2,
         0,
         2,
         3,
         5,
         6,
         2015,
         1,
         1,
         1,
         0,
         0,
         0,
         0
        ],
        [
         "2015-02-28",
         "DL",
         1258,
         "JAX",
         "ATL",
         1145,
         1144,
         -1,
         12,
         1156,
         1239,
         8,
         1302,
         1247,
         -15,
         43,
         270,
         0,
         "Unknown",
         0,
         0,
         2,
         21,
         1144,
         -1,
         12,
         1156,
         1239,
         8,
         1247,
         -15,
         43,
         0,
         0,
         2,
         21,
         7,
         2,
         2015,
         0,
         0,
         0,
         0,
         0,
         1,
         1
        ],
        [
         "2015-02-21",
         "DL",
         1259,
         "ATL",
         "OKC",
         2110,
         2107,
         -3,
         16,
         2123,
         2219,
         5,
         2236,
         2224,
         -12,
         116,
         761,
         0,
         "Unknown",
         0,
         0,
         28,
         0,
         2107,
         -3,
         16,
         2123,
         2219,
         5,
         2224,
         -12,
         116,
         0,
         0,
         28,
         0,
         7,
         2,
         2015,
         0,
         0,
         0,
         0,
         0,
         1,
         0
        ]
       ],
       "datasetInfos": [],
       "dbfsResultPath": null,
       "isJsonSchema": true,
       "metadata": {},
       "overflow": false,
       "plotOptions": {
        "customPlotOptions": {},
        "displayType": "table",
        "pivotAggregation": null,
        "pivotColumns": null,
        "xColumns": null,
        "yColumns": null
       },
       "removedWidgets": [],
       "schema": [
        {
         "metadata": "{}",
         "name": "FLIGHT_DATE ",
         "type": "\"date\""
        },
        {
         "metadata": "{}",
         "name": "AirlineIdentifier",
         "type": "\"string\""
        },
        {
         "metadata": "{}",
         "name": "FlightNumber",
         "type": "\"integer\""
        },
        {
         "metadata": "{}",
         "name": "Origin",
         "type": "\"string\""
        },
        {
         "metadata": "{}",
         "name": "Dest",
         "type": "\"string\""
        },
        {
         "metadata": "{}",
         "name": "PlannedDepTime",
         "type": "\"integer\""
        },
        {
         "metadata": "{}",
         "name": "ActualDepTime",
         "type": "\"integer\""
        },
        {
         "metadata": "{}",
         "name": "DepDelay",
         "type": "\"integer\""
        },
        {
         "metadata": "{}",
         "name": "TaxiOut",
         "type": "\"integer\""
        },
        {
         "metadata": "{}",
         "name": "WheelsOff",
         "type": "\"integer\""
        },
        {
         "metadata": "{}",
         "name": "WheelsOn",
         "type": "\"integer\""
        },
        {
         "metadata": "{}",
         "name": "TaxiIn",
         "type": "\"integer\""
        },
        {
         "metadata": "{}",
         "name": "PlannedArrivalTime",
         "type": "\"integer\""
        },
        {
         "metadata": "{}",
         "name": "ArrivalTime",
         "type": "\"integer\""
        },
        {
         "metadata": "{}",
         "name": "ArrivalDelay",
         "type": "\"integer\""
        },
        {
         "metadata": "{}",
         "name": "AirTime",
         "type": "\"integer\""
        },
        {
         "metadata": "{}",
         "name": "Distance",
         "type": "\"integer\""
        },
        {
         "metadata": "{}",
         "name": "CANCELLED",
         "type": "\"integer\""
        },
        {
         "metadata": "{}",
         "name": "CANCELLATION_REASON",
         "type": "\"string\""
        },
        {
         "metadata": "{}",
         "name": "AIR_SYSTEM_DELAY",
         "type": "\"integer\""
        },
        {
         "metadata": "{}",
         "name": "SECURITY_DELAY",
         "type": "\"integer\""
        },
        {
         "metadata": "{}",
         "name": "AIRLINE_DELAY",
         "type": "\"integer\""
        },
        {
         "metadata": "{}",
         "name": "LATE_AIRCRAFT_DELAY",
         "type": "\"integer\""
        },
        {
         "metadata": "{}",
         "name": "ActualDepTime_imputed",
         "type": "\"integer\""
        },
        {
         "metadata": "{}",
         "name": "DepDelay_imputed",
         "type": "\"integer\""
        },
        {
         "metadata": "{}",
         "name": "TaxiOut_imputed",
         "type": "\"integer\""
        },
        {
         "metadata": "{}",
         "name": "WheelsOff_imputed",
         "type": "\"integer\""
        },
        {
         "metadata": "{}",
         "name": "WheelsOn_imputed",
         "type": "\"integer\""
        },
        {
         "metadata": "{}",
         "name": "TaxiIn_imputed",
         "type": "\"integer\""
        },
        {
         "metadata": "{}",
         "name": "ArrivalTime_imputed",
         "type": "\"integer\""
        },
        {
         "metadata": "{}",
         "name": "ArrivalDelay_imputed",
         "type": "\"integer\""
        },
        {
         "metadata": "{}",
         "name": "AirTime_imputed",
         "type": "\"integer\""
        },
        {
         "metadata": "{}",
         "name": "AIR_SYSTEM_DELAY_imputed",
         "type": "\"integer\""
        },
        {
         "metadata": "{}",
         "name": "SECURITY_DELAY_imputed",
         "type": "\"integer\""
        },
        {
         "metadata": "{}",
         "name": "AIRLINE_DELAY_imputed",
         "type": "\"integer\""
        },
        {
         "metadata": "{}",
         "name": "LATE_AIRCRAFT_DELAY_imputed",
         "type": "\"integer\""
        },
        {
         "metadata": "{}",
         "name": "DAY_OF_WEEK",
         "type": "\"integer\""
        },
        {
         "metadata": "{}",
         "name": "MONTH",
         "type": "\"integer\""
        },
        {
         "metadata": "{}",
         "name": "YEAR",
         "type": "\"integer\""
        },
        {
         "metadata": "{}",
         "name": "WasDelayed",
         "type": "\"integer\""
        },
        {
         "metadata": "{}",
         "name": "WasDepartureDelayed",
         "type": "\"integer\""
        },
        {
         "metadata": "{}",
         "name": "WasArrivalLate",
         "type": "\"integer\""
        },
        {
         "metadata": "{}",
         "name": "AirSystemDelayOccurred",
         "type": "\"integer\""
        },
        {
         "metadata": "{}",
         "name": "SecurityDelayOccurred",
         "type": "\"integer\""
        },
        {
         "metadata": "{}",
         "name": "AirlineDelayOccurred",
         "type": "\"integer\""
        },
        {
         "metadata": "{}",
         "name": "LateAircraftDelayOccurred",
         "type": "\"integer\""
        }
       ],
       "type": "table"
      }
     },
     "output_type": "display_data"
    }
   ],
   "source": [
    "# Show updated schema and a sample of the transformed data\n",
    "df.printSchema()\n",
    "display(df.limit(10))"
   ]
  },
  {
   "cell_type": "markdown",
   "metadata": {
    "application/vnd.databricks.v1+cell": {
     "cellMetadata": {},
     "inputWidgets": {},
     "nuid": "b6b0ce47-925a-42e9-81da-d6fdd66521a5",
     "showTitle": false,
     "tableResultSettingsMap": {},
     "title": ""
    }
   },
   "source": [
    "**Which columns had missing values, and how did you handle them?**               \n",
    "Answer: ActualDepTime,DepDelay,TaxiOut,WheelsOff,WheelsOn,TaxiIn,ArrivalTime,ArrivalDelay,AirTime,AIR_SYSTEM_DELAY,SECURITY_DELAY,AIRLINE_DELAY and LATE_AIRCRAFT_DELAY columns have missing values.\n",
    "**Imputation technique** is used to handle missing values for numerical columns.\n",
    "The median value was used for imputation to ensure that the imputation is robust against outliers.\n",
    "**Median imputation** is used because it is less sensitive to extreme outliers compared to mean imputation, ensuring that the imputed values are more representative of typical values in the dataset.\n",
    "For Categorical columns , we impute using **Unknown** values.\n"
   ]
  },
  {
   "cell_type": "markdown",
   "metadata": {
    "application/vnd.databricks.v1+cell": {
     "cellMetadata": {},
     "inputWidgets": {},
     "nuid": "a380ae93-08d6-4d13-abee-61fe22a26556",
     "showTitle": false,
     "tableResultSettingsMap": {},
     "title": ""
    }
   },
   "source": [
    "**What new features did you create, and why?**\n",
    "\n",
    "The new features created include DAY_OF_WEEK, MONTH,YEAR and WasDelayed. The DAY_OF_WEEK, MONTH and YEAR features were extracted from the FLIGHT_DATE column to capture temporal patterns such as weekly or seasonal variations that could influence flight delays. WasDelayed is a binary feature derived from ArrivalDelay to indicate whether a flight was delayed (value of 1 if delay > 0, else 0). These features help in better understanding the impact of time-related factors on delays and simplify predictive modeling by creating clear, categorical indicators that can improve model performance."
   ]
  },
  {
   "cell_type": "markdown",
   "metadata": {
    "application/vnd.databricks.v1+cell": {
     "cellMetadata": {},
     "inputWidgets": {},
     "nuid": "94a203fa-07b0-489e-97fc-f1c36649149c",
     "showTitle": false,
     "tableResultSettingsMap": {},
     "title": ""
    }
   },
   "source": [
    "##**Step 3: Exploratory Data Analysis (EDA) using Spark SQL**"
   ]
  },
  {
   "cell_type": "markdown",
   "metadata": {
    "application/vnd.databricks.v1+cell": {
     "cellMetadata": {},
     "inputWidgets": {},
     "nuid": "f4ab5cee-56f5-49a0-984b-407332256b7d",
     "showTitle": false,
     "tableResultSettingsMap": {},
     "title": ""
    }
   },
   "source": [
    "**1. Register DataFrame as a Temporary Table: Register the DataFrame as a temporary table to use \n",
    "SQL queries.**"
   ]
  },
  {
   "cell_type": "code",
   "execution_count": 0,
   "metadata": {
    "application/vnd.databricks.v1+cell": {
     "cellMetadata": {
      "byteLimit": 2048000,
      "rowLimit": 10000
     },
     "inputWidgets": {},
     "nuid": "37a7c856-d5c5-49bf-bd7d-6d4092c55355",
     "showTitle": false,
     "tableResultSettingsMap": {},
     "title": ""
    }
   },
   "outputs": [],
   "source": [
    "# Register the DataFrame as a temporary table\n",
    "df.createOrReplaceTempView(\"flights\")"
   ]
  },
  {
   "cell_type": "markdown",
   "metadata": {
    "application/vnd.databricks.v1+cell": {
     "cellMetadata": {},
     "inputWidgets": {},
     "nuid": "dcba58a8-17c1-4a44-bd85-7b55343ab5e2",
     "showTitle": false,
     "tableResultSettingsMap": {},
     "title": ""
    }
   },
   "source": [
    "**2. SQL Queries: Perform the following analyses using Spark SQL:**"
   ]
  },
  {
   "cell_type": "markdown",
   "metadata": {
    "application/vnd.databricks.v1+cell": {
     "cellMetadata": {},
     "inputWidgets": {},
     "nuid": "37d628a3-5c36-4d3f-8646-a7717e74a71f",
     "showTitle": false,
     "tableResultSettingsMap": {},
     "title": ""
    }
   },
   "source": [
    "**Calculate the average delay time for each airline.**"
   ]
  },
  {
   "cell_type": "code",
   "execution_count": 0,
   "metadata": {
    "application/vnd.databricks.v1+cell": {
     "cellMetadata": {
      "byteLimit": 2048000,
      "rowLimit": 10000
     },
     "inputWidgets": {},
     "nuid": "1911cf5e-ebd7-4aa8-8837-7934904ad916",
     "showTitle": false,
     "tableResultSettingsMap": {},
     "title": ""
    }
   },
   "outputs": [
    {
     "output_type": "stream",
     "name": "stdout",
     "output_type": "stream",
     "text": [
      "+-----------------+-------------------+\n|AirlineIdentifier|AverageArrivalDelay|\n+-----------------+-------------------+\n|               NK| 16.120191609812746|\n|               B6|  13.26877415472912|\n|               OO|  5.413006143074179|\n|               VX| 4.3464681844716875|\n|               EV| 2.8303697216616532|\n|               AA| 1.4225160099555356|\n|               DL| -1.210882902499669|\n|               HA|-1.4672557601783798|\n|               WN| -1.569883802464189|\n|               UA| -3.216790744727763|\n|               F9| -3.669669226225635|\n|               AS| -4.854136110296275|\n+-----------------+-------------------+\n\n"
     ]
    }
   ],
   "source": [
    "# Average Delay time for Each Airline\n",
    "average_delay_airline = spark.sql(\"\"\"\n",
    "    SELECT AirlineIdentifier, AVG(ArrivalDelay) AS AverageArrivalDelay\n",
    "    FROM flights\n",
    "    GROUP BY AirlineIdentifier\n",
    "    ORDER BY AverageArrivalDelay DESC\n",
    "\"\"\")\n",
    "\n",
    "# Show the results\n",
    "average_delay_airline.show()\n"
   ]
  },
  {
   "cell_type": "markdown",
   "metadata": {
    "application/vnd.databricks.v1+cell": {
     "cellMetadata": {},
     "inputWidgets": {},
     "nuid": "40042dba-db94-4383-9ec2-494fec333173",
     "showTitle": false,
     "tableResultSettingsMap": {},
     "title": ""
    }
   },
   "source": [
    "**Identify the top 5 airports with the most delayed departures.**"
   ]
  },
  {
   "cell_type": "code",
   "execution_count": 0,
   "metadata": {
    "application/vnd.databricks.v1+cell": {
     "cellMetadata": {
      "byteLimit": 2048000,
      "rowLimit": 10000
     },
     "inputWidgets": {},
     "nuid": "2804cda4-77fe-4c35-abd1-25e8ecc7c724",
     "showTitle": false,
     "tableResultSettingsMap": {},
     "title": ""
    }
   },
   "outputs": [
    {
     "output_type": "stream",
     "name": "stdout",
     "output_type": "stream",
     "text": [
      "+------+-----------+\n|Origin|TotalDelays|\n+------+-----------+\n|   ATL|      20495|\n|   ORD|      14780|\n|   LAX|      11815|\n|   DEN|      10868|\n|   DFW|       9550|\n+------+-----------+\n\n"
     ]
    }
   ],
   "source": [
    "# Top 5 airports with the most delayed departures.\n",
    "top_delayed_airports = spark.sql(\"\"\"\n",
    "    SELECT Origin, COUNT(*) AS TotalDelays\n",
    "    FROM flights\n",
    "    WHERE DepDelay > 0\n",
    "    GROUP BY Origin\n",
    "    ORDER BY TotalDelays DESC\n",
    "    LIMIT 5\n",
    "\"\"\")\n",
    "\n",
    "# Show the results\n",
    "top_delayed_airports.show()\n"
   ]
  },
  {
   "cell_type": "markdown",
   "metadata": {
    "application/vnd.databricks.v1+cell": {
     "cellMetadata": {},
     "inputWidgets": {},
     "nuid": "20fd9fe8-b915-4a6d-9fbf-8e6860743e0b",
     "showTitle": false,
     "tableResultSettingsMap": {},
     "title": ""
    }
   },
   "source": [
    "**Determine the most common reason for flight cancellations.**"
   ]
  },
  {
   "cell_type": "code",
   "execution_count": 0,
   "metadata": {
    "application/vnd.databricks.v1+cell": {
     "cellMetadata": {
      "byteLimit": 2048000,
      "rowLimit": 10000
     },
     "inputWidgets": {},
     "nuid": "d053f279-d14a-4837-beb5-dc5d7daee597",
     "showTitle": false,
     "tableResultSettingsMap": {},
     "title": ""
    }
   },
   "outputs": [
    {
     "output_type": "stream",
     "name": "stdout",
     "output_type": "stream",
     "text": [
      "+-------------------+-----+\n|CANCELLATION_REASON|Count|\n+-------------------+-----+\n|                  B| 7344|\n+-------------------+-----+\n\n"
     ]
    }
   ],
   "source": [
    "# Determine the most common reason for flight cancellations using the CANCELLATION_REASON column\n",
    "most_common_cancellation_reason = spark.sql(\"\"\"\n",
    "    SELECT CANCELLATION_REASON, COUNT(*) AS Count\n",
    "    FROM flights\n",
    "    WHERE CANCELLED = 1\n",
    "    GROUP BY CANCELLATION_REASON\n",
    "    ORDER BY Count DESC\n",
    "    LIMIT 1\n",
    "\"\"\")\n",
    "most_common_cancellation_reason.show()\n"
   ]
  },
  {
   "cell_type": "markdown",
   "metadata": {
    "application/vnd.databricks.v1+cell": {
     "cellMetadata": {},
     "inputWidgets": {},
     "nuid": "886c861d-4426-4503-82b8-95303f8a6e16",
     "showTitle": false,
     "tableResultSettingsMap": {},
     "title": ""
    }
   },
   "source": [
    "**3. Visualization: Use Databricks visualizations or matplotlib to visualize key findings.**"
   ]
  },
  {
   "cell_type": "markdown",
   "metadata": {
    "application/vnd.databricks.v1+cell": {
     "cellMetadata": {},
     "inputWidgets": {},
     "nuid": "d53d9e3b-ffef-4da9-a222-5b7305b57d37",
     "showTitle": false,
     "tableResultSettingsMap": {},
     "title": ""
    }
   },
   "source": [
    "**Plot the average delay by airline.** "
   ]
  },
  {
   "cell_type": "code",
   "execution_count": 0,
   "metadata": {
    "application/vnd.databricks.v1+cell": {
     "cellMetadata": {
      "byteLimit": 2048000,
      "rowLimit": 10000
     },
     "inputWidgets": {},
     "nuid": "62791c0f-ec48-42e7-9e6e-662fceb065fa",
     "showTitle": false,
     "tableResultSettingsMap": {},
     "title": ""
    }
   },
   "outputs": [
    {
     "output_type": "display_data",
     "data": {
      "image/png": "[encoded data removed]"
     },
     "metadata": {
      "application/vnd.databricks.v1+output": {
       "addedWidgets": {},
       "arguments": {},
       "data": "data:image/png;base64,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\n",
       "datasetInfos": [],
       "metadata": {},
       "removedWidgets": [],
       "type": "image"
      }
     },
     "output_type": "display_data"
    }
   ],
   "source": [
    "# Convert to Pandas DataFrame for visualization\n",
    "average_delay_airline_pandas = average_delay_airline.toPandas()\n",
    "\n",
    "plt.figure(figsize=(12, 6))\n",
    "plt.bar(average_delay_airline_pandas['AirlineIdentifier'], average_delay_airline_pandas['AverageArrivalDelay'])\n",
    "plt.xlabel('Airline Identifier')\n",
    "plt.ylabel('Average Arrival Delay (minutes)')\n",
    "plt.title('Average Arrival Delay by Airline')\n",
    "plt.xticks(rotation=45)\n",
    "plt.grid(axis='y', linestyle='--')\n",
    "plt.tight_layout()\n",
    "plt.show()\n"
   ]
  },
  {
   "cell_type": "markdown",
   "metadata": {
    "application/vnd.databricks.v1+cell": {
     "cellMetadata": {},
     "inputWidgets": {},
     "nuid": "e87f8dda-0f78-4d71-8e5c-12467a3cfbd2",
     "showTitle": false,
     "tableResultSettingsMap": {},
     "title": ""
    }
   },
   "source": [
    "**Visualize delay patterns over days of the week or months.**"
   ]
  },
  {
   "cell_type": "code",
   "execution_count": 0,
   "metadata": {
    "application/vnd.databricks.v1+cell": {
     "cellMetadata": {
      "byteLimit": 2048000,
      "rowLimit": 10000
     },
     "inputWidgets": {},
     "nuid": "cca94f7f-09a5-4f9e-b1f1-e5fce357fc09",
     "showTitle": false,
     "tableResultSettingsMap": {},
     "title": ""
    }
   },
   "outputs": [
    {
     "output_type": "display_data",
     "data": {
      "text/html": [
       "<style scoped>\n",
       "  .table-result-container {\n",
       "    max-height: 300px;\n",
       "    overflow: auto;\n",
       "  }\n",
       "  table, th, td {\n",
       "    border: 1px solid black;\n",
       "    border-collapse: collapse;\n",
       "  }\n",
       "  th, td {\n",
       "    padding: 5px;\n",
       "  }\n",
       "  th {\n",
       "    text-align: left;\n",
       "  }\n",
       "</style><div class='table-result-container'><table class='table-result'><thead style='background-color: white'><tr><th>DAY_OF_WEEK</th><th>AverageArrivalDelay</th></tr></thead><tbody><tr><td>1</td><td>1.2930922260422577</td></tr><tr><td>2</td><td>0.9464425424974513</td></tr><tr><td>3</td><td>0.9241442212231522</td></tr><tr><td>4</td><td>1.175064476072213</td></tr><tr><td>5</td><td>1.3145102639296187</td></tr><tr><td>6</td><td>1.0439372325249643</td></tr><tr><td>7</td><td>1.041769521226254</td></tr></tbody></table></div>"
      ]
     },
     "metadata": {
      "application/vnd.databricks.v1+output": {
       "addedWidgets": {},
       "aggData": [],
       "aggError": "",
       "aggOverflow": false,
       "aggSchema": [],
       "aggSeriesLimitReached": false,
       "aggType": "",
       "arguments": {},
       "columnCustomDisplayInfos": {},
       "data": [
        [
         1,
         1.2930922260422577
        ],
        [
         2,
         0.9464425424974513
        ],
        [
         3,
         0.9241442212231522
        ],
        [
         4,
         1.175064476072213
        ],
        [
         5,
         1.3145102639296187
        ],
        [
         6,
         1.0439372325249643
        ],
        [
         7,
         1.041769521226254
        ]
       ],
       "datasetInfos": [],
       "dbfsResultPath": null,
       "isJsonSchema": true,
       "metadata": {},
       "overflow": false,
       "plotOptions": {
        "customPlotOptions": {},
        "displayType": "table",
        "pivotAggregation": null,
        "pivotColumns": null,
        "xColumns": null,
        "yColumns": null
       },
       "removedWidgets": [],
       "schema": [
        {
         "metadata": "{}",
         "name": "DAY_OF_WEEK",
         "type": "\"integer\""
        },
        {
         "metadata": "{}",
         "name": "AverageArrivalDelay",
         "type": "\"double\""
        }
       ],
       "type": "table"
      }
     },
     "output_type": "display_data"
    },
    {
     "output_type": "display_data",
     "data": {
      "image/png": "[encoded data removed]"
     },
     "metadata": {
      "application/vnd.databricks.v1+output": {
       "addedWidgets": {},
       "arguments": {},
       "data": "data:image/png;base64,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\n",
       "datasetInfos": [],
       "metadata": {},
       "removedWidgets": [],
       "type": "image"
      }
     },
     "output_type": "display_data"
    }
   ],
   "source": [
    "# Calculate average delay by day of the week\n",
    "average_delay_by_day = spark.sql(\"\"\"\n",
    "    SELECT DAY_OF_WEEK, AVG(ArrivalDelay) AS AverageArrivalDelay\n",
    "    FROM flights\n",
    "    GROUP BY DAY_OF_WEEK\n",
    "    ORDER BY DAY_OF_WEEK\n",
    "\"\"\")\n",
    "\n",
    "# Show the result to confirm\n",
    "display(average_delay_by_day)\n",
    "\n",
    "\n",
    "# Convert to Pandas DataFrame for visualization\n",
    "average_delay_by_day_pandas = average_delay_by_day.toPandas()\n",
    "\n",
    "# Plot using Matplotlib\n",
    "plt.figure(figsize=(10, 6))\n",
    "plt.plot(average_delay_by_day_pandas['DAY_OF_WEEK'], average_delay_by_day_pandas['AverageArrivalDelay'], marker='o', linestyle='-', color='b')\n",
    "plt.xlabel('Day of the Week')\n",
    "plt.ylabel('Average Arrival Delay (minutes)')\n",
    "plt.title('Average Arrival Delay by Day of the Week')\n",
    "plt.xticks(ticks=[1, 2, 3, 4, 5, 6, 7], labels=['Sun', 'Mon', 'Tue', 'Wed', 'Thu', 'Fri', 'Sat'])\n",
    "plt.grid(True)\n",
    "plt.tight_layout()\n",
    "plt.show()"
   ]
  },
  {
   "cell_type": "markdown",
   "metadata": {
    "application/vnd.databricks.v1+cell": {
     "cellMetadata": {},
     "inputWidgets": {},
     "nuid": "8578de98-f553-4d7d-bcf9-40311935a367",
     "showTitle": false,
     "tableResultSettingsMap": {},
     "title": ""
    }
   },
   "source": [
    "**Which airlines had the highest average delays?**\n",
    "\n",
    "From Average **ArrivalDelay by Time** plot, it appears that the airline with the highest average delay is NK, followed by B6. These two airlines have significantly higher average delays compared to others.**NK (Spirit Airlines)** has the highest average delay, with more than 15 minutes.\n",
    "**B6 (JetBlue Airways)** follows with an average delay of approximately 13 minutes.\n",
    "Other airlines such as OO, VX, and EV also show notable delays but are not as high as NK and B6. On the other hand, airlines like AS (Alaska Airlines), F9 (Frontier Airlines), and UA (United Airlines) show negative values, indicating these airlines are generally early or on time."
   ]
  },
  {
   "cell_type": "markdown",
   "metadata": {
    "application/vnd.databricks.v1+cell": {
     "cellMetadata": {},
     "inputWidgets": {},
     "nuid": "610db69d-ad9a-4eee-b29a-840b71f19459",
     "showTitle": false,
     "tableResultSettingsMap": {},
     "title": ""
    }
   },
   "source": [
    "**What patterns did you observe in delays by day of the week?**\n",
    "\n",
    "From the line plot of Average Arrival Delay by Day of the Week, the following patterns can be observed:\n",
    "\n",
    "**Highest Delays on Sundays and Thursdays:**\n",
    "\n",
    "Sundays have the highest average arrival delays (about 1.3 minutes), indicating that weekend congestion or returning travelers could lead to more frequent delays.\n",
    "There is another peak on Thursday, which may suggest high traffic towards the end of the workweek.\n",
    "\n",
    "**Lower Delays on Mondays and Tuesdays:**\n",
    "\n",
    "Mondays and Tuesdays have significantly lower average delays, suggesting that these days tend to have less air traffic or fewer disruptions, possibly resulting in better on-time performance.\n",
    "\n",
    "**Moderate Delays on Fridays and Saturdays**:\n",
    "\n",
    "Fridays and Saturdays have consistent, moderate delays, indicating relatively stable operations on these days, without significant peaks or dips."
   ]
  },
  {
   "cell_type": "markdown",
   "metadata": {
    "application/vnd.databricks.v1+cell": {
     "cellMetadata": {},
     "inputWidgets": {},
     "nuid": "6feaa7d4-e43b-49c8-8c1b-3e2a02b71b8c",
     "showTitle": false,
     "tableResultSettingsMap": {},
     "title": ""
    }
   },
   "source": [
    "#### More Exploratory Data Analysis"
   ]
  },
  {
   "cell_type": "markdown",
   "metadata": {
    "application/vnd.databricks.v1+cell": {
     "cellMetadata": {},
     "inputWidgets": {},
     "nuid": "cf86e8d7-1929-44f3-a814-db4710a7f8eb",
     "showTitle": false,
     "tableResultSettingsMap": {},
     "title": ""
    }
   },
   "source": [
    "**Calculate the percentage of cancelled flights by airline:**"
   ]
  },
  {
   "cell_type": "code",
   "execution_count": 0,
   "metadata": {
    "application/vnd.databricks.v1+cell": {
     "cellMetadata": {
      "byteLimit": 2048000,
      "rowLimit": 10000
     },
     "inputWidgets": {},
     "nuid": "80f7fc79-853a-4461-ae6b-1038c4607262",
     "showTitle": false,
     "tableResultSettingsMap": {},
     "title": ""
    }
   },
   "outputs": [
    {
     "output_type": "stream",
     "name": "stdout",
     "output_type": "stream",
     "text": [
      "+-----------------+----------------------+\n|AirlineIdentifier|CancellationPercentage|\n+-----------------+----------------------+\n|               VX|      1.73448965977318|\n|               F9|      1.64423426700618|\n|               NK|      1.61207420214009|\n|               WN|      1.56838542508535|\n|               OO|      1.56808065640586|\n|               EV|      1.56784214125232|\n|               HA|      1.56636438582028|\n|               B6|      1.54038487297406|\n|               UA|      1.53863702614669|\n|               DL|      1.53838320652885|\n|               AA|      1.48075091824242|\n|               AS|      1.47442399652224|\n+-----------------+----------------------+\n\n"
     ]
    },
    {
     "output_type": "stream",
     "name": "stderr",
     "output_type": "stream",
     "text": [
      "/databricks/spark/python/pyspark/sql/pandas/utils.py:124: UserWarning: The conversion of DecimalType columns is inefficient and may take a long time. Column names: [CancellationPercentage] If those columns are not necessary, you may consider dropping them or converting to primitive types before the conversion.\n  warnings.warn(\n"
     ]
    },
    {
     "output_type": "display_data",
     "data": {
      "image/png": "[encoded data removed]"
     },
     "metadata": {
      "application/vnd.databricks.v1+output": {
       "addedWidgets": {},
       "arguments": {},
       "data": "data:image/png;base64,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\n",
       "datasetInfos": [],
       "metadata": {},
       "removedWidgets": [],
       "type": "image"
      }
     },
     "output_type": "display_data"
    }
   ],
   "source": [
    "cancellation_percentage_airline = spark.sql(\"\"\"\n",
    "    SELECT AirlineIdentifier, (COUNT(*) FILTER (WHERE CANCELLED = 1) * 100.0 / COUNT(*)) AS CancellationPercentage\n",
    "    FROM flights\n",
    "    GROUP BY AirlineIdentifier\n",
    "    ORDER BY CancellationPercentage DESC\n",
    "\"\"\")\n",
    "cancellation_percentage_airline.show()\n",
    "\n",
    "cancellation_percentage_airline_pandas = cancellation_percentage_airline.toPandas()\n",
    "plt.figure(figsize=(10, 6))\n",
    "plt.bar(cancellation_percentage_airline_pandas['AirlineIdentifier'], cancellation_percentage_airline_pandas['CancellationPercentage'])\n",
    "plt.xlabel('Airline Identifier')\n",
    "plt.ylabel('Cancellation Percentage (%)')\n",
    "plt.title('Percentage of Cancelled Flights by Airline')\n",
    "plt.xticks(rotation=45)\n",
    "plt.show()"
   ]
  },
  {
   "cell_type": "markdown",
   "metadata": {
    "application/vnd.databricks.v1+cell": {
     "cellMetadata": {},
     "inputWidgets": {},
     "nuid": "c1856b4f-f869-40d5-8977-fb23a50d9b47",
     "showTitle": false,
     "tableResultSettingsMap": {},
     "title": ""
    }
   },
   "source": [
    "From the above plot , we can see that VX and F9 airlines have highest percentage of cancelled flights."
   ]
  },
  {
   "cell_type": "markdown",
   "metadata": {
    "application/vnd.databricks.v1+cell": {
     "cellMetadata": {},
     "inputWidgets": {},
     "nuid": "2c741c25-fa8a-4bcf-acc6-2f5c05e9ce8c",
     "showTitle": false,
     "tableResultSettingsMap": {},
     "title": ""
    }
   },
   "source": [
    "**Analyze the correlation between departure delay and arrival delay:**"
   ]
  },
  {
   "cell_type": "code",
   "execution_count": 0,
   "metadata": {
    "application/vnd.databricks.v1+cell": {
     "cellMetadata": {
      "byteLimit": 2048000,
      "rowLimit": 10000
     },
     "inputWidgets": {},
     "nuid": "0d7d4ddd-7b27-45b7-a612-d127921d1a03",
     "showTitle": false,
     "tableResultSettingsMap": {},
     "title": ""
    }
   },
   "outputs": [
    {
     "output_type": "stream",
     "name": "stdout",
     "output_type": "stream",
     "text": [
      "+------------------------+\n|CorrelationBetweenDelays|\n+------------------------+\n|      0.9420885390243859|\n+------------------------+\n\n"
     ]
    }
   ],
   "source": [
    "delay_correlation = spark.sql(\"\"\"\n",
    "    SELECT CORR(DepDelay, ArrivalDelay) AS CorrelationBetweenDelays\n",
    "    FROM flights\n",
    "\"\"\")\n",
    "delay_correlation.show()"
   ]
  },
  {
   "cell_type": "markdown",
   "metadata": {
    "application/vnd.databricks.v1+cell": {
     "cellMetadata": {},
     "inputWidgets": {},
     "nuid": "7553bd5d-e67b-4ff5-82af-56de91189be9",
     "showTitle": false,
     "tableResultSettingsMap": {},
     "title": ""
    }
   },
   "source": [
    "##**Step 4: Conclusion**"
   ]
  },
  {
   "cell_type": "markdown",
   "metadata": {
    "application/vnd.databricks.v1+cell": {
     "cellMetadata": {},
     "inputWidgets": {},
     "nuid": "ba75d3b1-8527-4313-b9ad-f48002ff473f",
     "showTitle": false,
     "tableResultSettingsMap": {},
     "title": ""
    }
   },
   "source": [
    "Summary of Findings\n",
    "\n",
    "**Average Delay by Airline:** \n",
    "\n",
    "The analysis showed that NK (Spirit Airlines) had the highest average delay at more than 15 minutes, followed by B6 (JetBlue Airways) with an average delay at approximately 13 minutes. On the other hand, airlines like AS (Alaska Airlines) and F9 (Frontier Airlines) had negative average delays, indicating better on-time performance.\n",
    "\n",
    "**Top Airports with Delayed Departures:**\n",
    "\n",
    " The top 5 airports with the most delayed departures were identified as ATL (Hartsfield-Jackson Atlanta International Airport) with 20,495 delays, ORD (Chicago O'Hare International Airport) with 14,780 delays, LAX (Los Angeles International Airport) with 11,815 delays, DEN (Denver International Airport) with 10,868 delays, and DFW (Dallas/Fort Worth International Airport) with 9,550 delays. These airports may experience higher congestion or operational issues, indicating potential areas for targeted interventions to improve on-time performance.\n",
    "\n",
    "**Most Common Reason for Flight Cancellations:**\n",
    "\n",
    " The most common reason for flight cancellations was identified as B (security Delay) with 7,344 cancellations. Understanding the main causes of cancellations can help airlines and airport authorities take proactive measures to minimize disruptions.\n",
    "\n",
    "**Delay Patterns by Day of the Week:**\n",
    "\n",
    " The visualizations showed that Sundays and Thursdays experienced the highest average delays, with Sundays having an average delay of about 1.3 minutes. Mondays and Tuesdays had the lowest delays, indicating smoother operations on these days. These insights can assist airlines in better scheduling and resource allocation."
   ]
  }
 ],
 "metadata": {
  "application/vnd.databricks.v1+notebook": {
   "dashboards": [
    {
     "elements": [
      {
       "dashboardResultIndex": 0,
       "elementNUID": "bf6fd4a8-04b1-45d0-a962-dba27ea320ab",
       "elementType": "command",
       "guid": "d3b94242-3394-4b12-a5d2-97d5c90deb08",
       "options": null,
       "position": {
        "height": 6,
        "width": 12,
        "x": 0,
        "y": 0,
        "z": null
       },
       "resultIndex": null
      }
     ],
     "globalVars": {},
     "guid": "",
     "layoutOption": {
      "grid": true,
      "stack": true
     },
     "nuid": "e54bada4-9e05-4449-aca0-7a3ed1bf2b36",
     "origId": 3040293557883953,
     "title": "Untitled",
     "version": "DashboardViewV1",
     "width": 1024
    }
   ],
   "environmentMetadata": null,
   "language": "python",
   "notebookMetadata": {
    "pythonIndentUnit": 2
   },
   "notebookName": "PySpark Assignment in Databricks",
   "widgets": {}
  }
 },
 "nbformat": 4,
 "nbformat_minor": 0
}
